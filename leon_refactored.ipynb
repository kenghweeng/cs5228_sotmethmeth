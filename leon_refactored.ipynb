{
 "cells": [
  {
   "cell_type": "code",
   "execution_count": 4,
   "metadata": {},
   "outputs": [],
   "source": [
    "import os\n",
    "import io\n",
    "import sys\n",
    "import math\n",
    "import joblib\n",
    "import datetime\n",
    "from tqdm import tqdm\n",
    "from copy import deepcopy\n",
    "\n",
    "## Data Structures and illustrations ##\n",
    "import numpy as np\n",
    "import pandas as pd\n",
    "import seaborn as sb\n",
    "import matplotlib.pyplot as plt\n",
    "%matplotlib inline\n",
    "\n",
    "import matplotlib as mpl\n",
    "mpl.rcParams['figure.figsize'] = (12, 10)\n",
    "colors = plt.rcParams['axes.prop_cycle'].by_key()['color']\n",
    "\n",
    "## sklearn ##\n",
    "import sklearn\n",
    "\n",
    "from sklearn.preprocessing import StandardScaler\n",
    "from sklearn.model_selection import train_test_split\n",
    "from sklearn.model_selection import GridSearchCV\n",
    "\n",
    "# model evaluation\n",
    "from sklearn.metrics import classification_report, confusion_matrix\n",
    "from sklearn.metrics import f1_score\n",
    "from sklearn.metrics import accuracy_score\n",
    "\n",
    "# classifiers\n",
    "from sklearn.neighbors import KNeighborsClassifier # KNN\n",
    "from sklearn.linear_model import LogisticRegression # logistic regression\n",
    "from sklearn.tree import DecisionTreeClassifier # decision tree\n",
    "from sklearn.ensemble import RandomForestClassifier # random forest\n",
    "from sklearn.ensemble import GradientBoostingClassifier # gradient boosting"
   ]
  },
  {
   "cell_type": "code",
   "execution_count": 10,
   "metadata": {},
   "outputs": [
    {
     "name": "stderr",
     "output_type": "stream",
     "text": [
      "/ldap_home/leonard.lee/miniconda/envs/5228/lib/python3.7/site-packages/sklearn/base.py:318: UserWarning: Trying to unpickle estimator StandardScaler from version 0.22.1 when using version 0.22.2.post1. This might lead to breaking code or invalid results. Use at your own risk.\n",
      "  UserWarning)\n"
     ]
    }
   ],
   "source": [
    "## Import data\n",
    "df_train = pd.read_csv('df_train_v2.csv')\n",
    "df_val = pd.read_csv('df_val_v2.csv')\n",
    "df_test = pd.read_csv('df_test_v2.csv')\n",
    "scaler = joblib.load('scaler.sav')"
   ]
  },
  {
   "cell_type": "code",
   "execution_count": 14,
   "metadata": {},
   "outputs": [
    {
     "data": {
      "text/html": [
       "<div>\n",
       "<style scoped>\n",
       "    .dataframe tbody tr th:only-of-type {\n",
       "        vertical-align: middle;\n",
       "    }\n",
       "\n",
       "    .dataframe tbody tr th {\n",
       "        vertical-align: top;\n",
       "    }\n",
       "\n",
       "    .dataframe thead th {\n",
       "        text-align: right;\n",
       "    }\n",
       "</style>\n",
       "<table border=\"1\" class=\"dataframe\">\n",
       "  <thead>\n",
       "    <tr style=\"text-align: right;\">\n",
       "      <th></th>\n",
       "      <th>workclass</th>\n",
       "      <th>education</th>\n",
       "      <th>marital-status</th>\n",
       "      <th>occupation</th>\n",
       "      <th>relationship</th>\n",
       "      <th>sex</th>\n",
       "      <th>native-country</th>\n",
       "      <th>class</th>\n",
       "      <th>age</th>\n",
       "      <th>fnlwgt</th>\n",
       "      <th>education-num</th>\n",
       "      <th>capital-gain</th>\n",
       "      <th>capital-loss</th>\n",
       "      <th>hours-per-week</th>\n",
       "    </tr>\n",
       "  </thead>\n",
       "  <tbody>\n",
       "    <tr>\n",
       "      <th>0</th>\n",
       "      <td>?</td>\n",
       "      <td>HS-grad</td>\n",
       "      <td>Never-married</td>\n",
       "      <td>?</td>\n",
       "      <td>Own-child</td>\n",
       "      <td>Female</td>\n",
       "      <td>United-States</td>\n",
       "      <td>0</td>\n",
       "      <td>-1.505619</td>\n",
       "      <td>0.879571</td>\n",
       "      <td>-0.426125</td>\n",
       "      <td>-0.146009</td>\n",
       "      <td>-0.216947</td>\n",
       "      <td>-2.063019</td>\n",
       "    </tr>\n",
       "    <tr>\n",
       "      <th>1</th>\n",
       "      <td>Private</td>\n",
       "      <td>HS-grad</td>\n",
       "      <td>Married-civ-spouse</td>\n",
       "      <td>Adm-clerical</td>\n",
       "      <td>Husband</td>\n",
       "      <td>Male</td>\n",
       "      <td>United-States</td>\n",
       "      <td>0</td>\n",
       "      <td>-0.116408</td>\n",
       "      <td>-0.855531</td>\n",
       "      <td>-0.426125</td>\n",
       "      <td>-0.146009</td>\n",
       "      <td>-0.216947</td>\n",
       "      <td>-0.041648</td>\n",
       "    </tr>\n",
       "    <tr>\n",
       "      <th>2</th>\n",
       "      <td>Private</td>\n",
       "      <td>Doctorate</td>\n",
       "      <td>Married-civ-spouse</td>\n",
       "      <td>Prof-specialty</td>\n",
       "      <td>Husband</td>\n",
       "      <td>Male</td>\n",
       "      <td>United-States</td>\n",
       "      <td>1</td>\n",
       "      <td>0.834104</td>\n",
       "      <td>-0.082267</td>\n",
       "      <td>2.293207</td>\n",
       "      <td>12.927134</td>\n",
       "      <td>-0.216947</td>\n",
       "      <td>0.766900</td>\n",
       "    </tr>\n",
       "    <tr>\n",
       "      <th>3</th>\n",
       "      <td>Private</td>\n",
       "      <td>HS-grad</td>\n",
       "      <td>Married-civ-spouse</td>\n",
       "      <td>Prof-specialty</td>\n",
       "      <td>Husband</td>\n",
       "      <td>Male</td>\n",
       "      <td>United-States</td>\n",
       "      <td>1</td>\n",
       "      <td>-0.189525</td>\n",
       "      <td>-0.049631</td>\n",
       "      <td>-0.426125</td>\n",
       "      <td>-0.146009</td>\n",
       "      <td>4.735098</td>\n",
       "      <td>-0.041648</td>\n",
       "    </tr>\n",
       "    <tr>\n",
       "      <th>4</th>\n",
       "      <td>Private</td>\n",
       "      <td>HS-grad</td>\n",
       "      <td>Married-civ-spouse</td>\n",
       "      <td>Handlers-cleaners</td>\n",
       "      <td>Husband</td>\n",
       "      <td>Male</td>\n",
       "      <td>United-States</td>\n",
       "      <td>1</td>\n",
       "      <td>0.980336</td>\n",
       "      <td>-0.304250</td>\n",
       "      <td>-0.426125</td>\n",
       "      <td>-0.146009</td>\n",
       "      <td>-0.216947</td>\n",
       "      <td>-0.041648</td>\n",
       "    </tr>\n",
       "  </tbody>\n",
       "</table>\n",
       "</div>"
      ],
      "text/plain": [
       "  workclass   education       marital-status          occupation relationship  \\\n",
       "0         ?     HS-grad        Never-married                   ?    Own-child   \n",
       "1   Private     HS-grad   Married-civ-spouse        Adm-clerical      Husband   \n",
       "2   Private   Doctorate   Married-civ-spouse      Prof-specialty      Husband   \n",
       "3   Private     HS-grad   Married-civ-spouse      Prof-specialty      Husband   \n",
       "4   Private     HS-grad   Married-civ-spouse   Handlers-cleaners      Husband   \n",
       "\n",
       "       sex  native-country  class       age    fnlwgt  education-num  \\\n",
       "0   Female   United-States      0 -1.505619  0.879571      -0.426125   \n",
       "1     Male   United-States      0 -0.116408 -0.855531      -0.426125   \n",
       "2     Male   United-States      1  0.834104 -0.082267       2.293207   \n",
       "3     Male   United-States      1 -0.189525 -0.049631      -0.426125   \n",
       "4     Male   United-States      1  0.980336 -0.304250      -0.426125   \n",
       "\n",
       "   capital-gain  capital-loss  hours-per-week  \n",
       "0     -0.146009     -0.216947       -2.063019  \n",
       "1     -0.146009     -0.216947       -0.041648  \n",
       "2     12.927134     -0.216947        0.766900  \n",
       "3     -0.146009      4.735098       -0.041648  \n",
       "4     -0.146009     -0.216947       -0.041648  "
      ]
     },
     "execution_count": 14,
     "metadata": {},
     "output_type": "execute_result"
    }
   ],
   "source": [
    "df_train.head()"
   ]
  },
  {
   "cell_type": "code",
   "execution_count": 11,
   "metadata": {},
   "outputs": [
    {
     "name": "stdout",
     "output_type": "stream",
     "text": [
      "Examples:\n",
      "    Total: 19522\n",
      "    Positive: 4692 (24.03% of total)\n",
      "    Negative: 14830 (75.97% of total)\n",
      "\n"
     ]
    },
    {
     "data": {
      "image/png": "[encoded data removed]",
      "text/plain": [
       "<Figure size 864x720 with 1 Axes>"
      ]
     },
     "metadata": {},
     "output_type": "display_data"
    }
   ],
   "source": [
    "## Class imbalance\n",
    "sb.set(style=\"darkgrid\")\n",
    "ax = sb.countplot(x=\"class\", data=df_train)\n",
    "\n",
    "## Deal with calss imbalance for training by weighting loss to class or upsampling\n",
    "\n",
    "neg, pos = np.bincount(df_train['class'])\n",
    "total = neg + pos\n",
    "print('Examples:\\n    Total: {}\\n    Positive: {} ({:.2f}% of total)\\n    Negative: {} ({:.2f}% of total)\\n'.format(\n",
    "    total, pos, 100 * pos / total, neg, 100 * neg / total,))"
   ]
  },
  {
   "cell_type": "code",
   "execution_count": null,
   "metadata": {},
   "outputs": [],
   "source": [
    "## Change Column type to categorical\n",
    "for col in df_train.select_dtypes(['object']).columns:\n",
    "    df_train[col] = df_train[col].astype('category')\n",
    "    \n",
    "for col in df_val.select_dtypes(['object']).columns:\n",
    "    df_val[col] = df_val[col].astype('category')\n",
    "    \n",
    "for col in df_test.select_dtypes(['object']).columns:\n",
    "    df_test[col] = df_test[col].astype('category')"
   ]
  },
  {
   "cell_type": "code",
   "execution_count": null,
   "metadata": {},
   "outputs": [],
   "source": [
    "## Categorical Transformations\n",
    "cat_columns = df_train.select_dtypes(['category']).columns\n",
    "df_merge = pd.concat([df_train, df_val], axis=0)\n",
    "thres = len(df_train)\n",
    "df_merge = pd.get_dummies(df_merge, cat_columns)\n",
    "df_train = df_merge.iloc[0:thres]\n",
    "df_val = df_merge.iloc[thres:]"
   ]
  },
  {
   "cell_type": "code",
   "execution_count": 18,
   "metadata": {},
   "outputs": [],
   "source": [
    "x_train, y_train, x_test, y_test = df_train.drop('class', axis=1), df_train['class'], df_val.drop('class', axis=1), df_val['class']"
   ]
  },
  {
   "cell_type": "code",
   "execution_count": 19,
   "metadata": {},
   "outputs": [
    {
     "name": "stderr",
     "output_type": "stream",
     "text": [
      "/ldap_home/leonard.lee/miniconda/envs/5228/lib/python3.7/site-packages/sklearn/linear_model/_logistic.py:940: ConvergenceWarning: lbfgs failed to converge (status=1):\n",
      "STOP: TOTAL NO. of ITERATIONS REACHED LIMIT.\n",
      "\n",
      "Increase the number of iterations (max_iter) or scale the data as shown in:\n",
      "    https://scikit-learn.org/stable/modules/preprocessing.html\n",
      "Please also refer to the documentation for alternative solver options:\n",
      "    https://scikit-learn.org/stable/modules/linear_model.html#logistic-regression\n",
      "  extra_warning_msg=_LOGISTIC_SOLVER_CONVERGENCE_MSG)\n"
     ]
    },
    {
     "name": "stdout",
     "output_type": "stream",
     "text": [
      "          acc  acc_mean\n",
      "Model                  \n",
      "KNN    83.020    83.020\n",
      "LR     84.960    84.960\n",
      "DT     84.000    84.000\n",
      "RF     83.670    83.670\n",
      "GBM    86.740    86.740\n",
      "avg    84.478    84.478\n",
      "\n",
      "\n",
      "           f1  F1_mean\n",
      "Model                 \n",
      "KNN    82.710   82.710\n",
      "LR     84.400   84.400\n",
      "DT     82.510   82.510\n",
      "RF     81.290   81.290\n",
      "GBM    86.220   86.220\n",
      "avg    83.426   83.426\n"
     ]
    }
   ],
   "source": [
    "model_names = ['KNN', 'LR', 'DT', 'RF', 'GBM'] \n",
    "pima2_acc = []\n",
    "pima2_f1 = []\n",
    "\n",
    "depth=5\n",
    "\n",
    "## KNN\n",
    "\n",
    "neigh = KNeighborsClassifier(n_neighbors=5)\n",
    "neigh.fit(x_train, y_train)\n",
    "y_pred = neigh.predict(x_test)\n",
    "f1 = round(f1_score(y_test, y_pred, average='weighted') * 100, 2)\n",
    "acc = round(accuracy_score(y_test, y_pred) * 100, 2)\n",
    "pima2_acc.append(acc)\n",
    "pima2_f1.append(f1)\n",
    "\n",
    "## Logistic Regression\n",
    "\n",
    "clf = LogisticRegression(random_state=0).fit(x_train, y_train)\n",
    "y_pred = clf.predict(x_test)\n",
    "f1 = round(f1_score(y_test, y_pred, average='weighted') * 100, 2)\n",
    "acc = round(accuracy_score(y_test, y_pred) * 100, 2)\n",
    "pima2_acc.append(acc)\n",
    "pima2_f1.append(f1)\n",
    "\n",
    "## Decision Tree\n",
    "\n",
    "clf = DecisionTreeClassifier(max_depth=depth, random_state=0)\n",
    "clf.fit(x_train, y_train)\n",
    "y_pred = clf.predict(x_test)\n",
    "f1 = round(f1_score(y_test, y_pred, average='weighted') * 100, 2)\n",
    "acc = round(accuracy_score(y_test, y_pred) * 100, 2)\n",
    "pima2_acc.append(acc)\n",
    "pima2_f1.append(f1)\n",
    "\n",
    "## Random Forest Classifier\n",
    "\n",
    "clf = RandomForestClassifier(max_depth=depth, random_state=0)\n",
    "clf.fit(x_train, y_train)\n",
    "y_pred = clf.predict(x_test)\n",
    "f1 = round(f1_score(y_test, y_pred, average='weighted') * 100, 2)\n",
    "acc = round(accuracy_score(y_test, y_pred) * 100, 2)\n",
    "pima2_acc.append(acc)\n",
    "pima2_f1.append(f1)\n",
    "\n",
    "## Gradient Boosting\n",
    "\n",
    "clf = GradientBoostingClassifier(n_estimators=100, max_depth=depth, random_state=0)\n",
    "clf.fit(x_train, y_train)\n",
    "y_pred = clf.predict(x_test)\n",
    "f1 = round(f1_score(y_test, y_pred, average='weighted') * 100, 2)\n",
    "acc = round(accuracy_score(y_test, y_pred) * 100, 2)\n",
    "pima2_acc.append(acc)\n",
    "pima2_f1.append(f1)\n",
    "\n",
    "# please use the following function to calculate f1 and acc\n",
    "# f1 = round(f1_score(y_test, y_pred, average='weighted') * 100, 2)\n",
    "# acc = round(accuracy_score(y_test, y_pred) * 100, 2)\n",
    "\n",
    "# Your code should fill in pima1_acc, pima2_acc, pima1_f1, and pima2_f1, each of which should be length-5 \n",
    "# lists containing the accuracy (or f1) of each of the 5 algorithms on pima1 (or pima2). The code below \n",
    "# will then automatically produce the appropriate results tables. \n",
    "\n",
    "# --- End of your code ---\n",
    "\n",
    "accuracy_record = pd.DataFrame({'Model': model_names, 'acc': pima2_acc})\n",
    "accuracy_record['acc_mean'] = accuracy_record.mean(axis=1).round(2)\n",
    "accuracy_record.set_index('Model', inplace=True)\n",
    "accuracy_record.loc['avg'] = accuracy_record.mean()\n",
    "\n",
    "F1_record = pd.DataFrame({'Model': model_names, 'f1': pima2_f1})\n",
    "F1_record['F1_mean'] = F1_record.mean(axis=1).round(2)\n",
    "F1_record.set_index('Model', inplace=True)\n",
    "F1_record.loc['avg'] = F1_record.mean()\n",
    "\n",
    "print(accuracy_record)\n",
    "print('\\n')\n",
    "print(F1_record)"
   ]
  },
  {
   "cell_type": "code",
   "execution_count": 21,
   "metadata": {},
   "outputs": [
    {
     "name": "stdout",
     "output_type": "stream",
     "text": [
      "Fitting 10 folds for each of 196 candidates, totalling 1960 fits\n"
     ]
    },
    {
     "name": "stderr",
     "output_type": "stream",
     "text": [
      "[Parallel(n_jobs=50)]: Using backend LokyBackend with 50 concurrent workers.\n",
      "[Parallel(n_jobs=50)]: Done 100 tasks      | elapsed:   28.4s\n",
      "[Parallel(n_jobs=50)]: Done 350 tasks      | elapsed:  1.5min\n",
      "[Parallel(n_jobs=50)]: Done 700 tasks      | elapsed:  2.9min\n",
      "[Parallel(n_jobs=50)]: Done 1150 tasks      | elapsed:  4.7min\n",
      "[Parallel(n_jobs=50)]: Done 1700 tasks      | elapsed:  6.9min\n",
      "[Parallel(n_jobs=50)]: Done 1960 out of 1960 | elapsed:  8.0min finished\n"
     ]
    },
    {
     "name": "stdout",
     "output_type": "stream",
     "text": [
      "86.99 86.56\n",
      "{'criterion': 'mse', 'learning_rate': 0.1, 'loss': 'exponential', 'max_depth': 6}\n"
     ]
    }
   ],
   "source": [
    "from sklearn.model_selection import GridSearchCV\n",
    "from sklearn.model_selection import StratifiedKFold\n",
    "\n",
    "parameters = {'loss': ['deviance', 'exponential'],\n",
    "              'learning_rate': [0.1, 0.05, 0.02, 0.01, 0.005, 0.002, 0.001],\n",
    "              'criterion': ['friedman_mse', 'mse'],\n",
    "              'max_depth': [i for i in range(3,10,1)],\n",
    "             }\n",
    "kf = StratifiedKFold(n_splits=10, random_state=5228, shuffle=True)\n",
    "GBM = GradientBoostingClassifier(warm_start=True, random_state=0)\n",
    "clf = GridSearchCV(GBM, parameters, cv=kf, scoring='f1_weighted', verbose=1, n_jobs=50)\n",
    "\n",
    "clf.fit(x_train, y_train)\n",
    "y_pred = clf.predict(x_test)\n",
    "\n",
    "f1 = round(f1_score(y_test, y_pred, average='weighted') * 100, 2)\n",
    "acc = round(accuracy_score(y_test, y_pred) * 100, 2)\n",
    "print(acc, f1)\n",
    "print(clf.best_params_)"
   ]
  },
  {
   "cell_type": "code",
   "execution_count": 24,
   "metadata": {},
   "outputs": [
    {
     "name": "stdout",
     "output_type": "stream",
     "text": [
      "Legitimate Transactions Detected (True Negatives):  3498\n",
      "Legitimate Transactions Incorrectly Detected (False Positives):  219\n",
      "Fraudulent Transactions Missed (False Negatives):  416\n",
      "Fraudulent Transactions Detected (True Positives):  748\n",
      "Total Fraudulent Transactions:  1164\n"
     ]
    },
    {
     "data": {
      "image/png": "[encoded data removed]",
      "text/plain": [
       "<Figure size 360x360 with 2 Axes>"
      ]
     },
     "metadata": {},
     "output_type": "display_data"
    }
   ],
   "source": [
    "def plot_cm(labels, predictions, p=0.5):\n",
    "    cm = confusion_matrix(labels, predictions > p)\n",
    "    plt.figure(figsize=(5,5))\n",
    "    sb.heatmap(cm, annot=True, fmt=\"d\")\n",
    "    plt.title('Confusion matrix @{:.2f}'.format(p))\n",
    "    plt.ylabel('Actual label')\n",
    "    plt.xlabel('Predicted label')\n",
    "\n",
    "    print('Legitimate Transactions Detected (True Negatives): ', cm[0][0])\n",
    "    print('Legitimate Transactions Incorrectly Detected (False Positives): ', cm[0][1])\n",
    "    print('Fraudulent Transactions Missed (False Negatives): ', cm[1][0])\n",
    "    print('Fraudulent Transactions Detected (True Positives): ', cm[1][1])\n",
    "    print('Total Fraudulent Transactions: ', np.sum(cm[1]))\n",
    "    \n",
    "plot_cm(y_test, clf.predict(x_test))"
   ]
  },
  {
   "cell_type": "code",
   "execution_count": 25,
   "metadata": {},
   "outputs": [
    {
     "name": "stdout",
     "output_type": "stream",
     "text": [
      "86.81 86.18\n",
      "86.85 86.32\n",
      "87.11 86.67\n",
      "86.99 86.51\n"
     ]
    },
    {
     "name": "stderr",
     "output_type": "stream",
     "text": [
      "/ldap_home/leonard.lee/miniconda/envs/5228/lib/python3.7/site-packages/mlxtend/classifier/ensemble_vote.py:166: UserWarning: fit_base_estimators=False enforces use_clones to be `False`\n",
      "  warnings.warn(\"fit_base_estimators=False \"\n"
     ]
    }
   ],
   "source": [
    "# Voting Classifier (without Keras)\n",
    "from sklearn.ensemble import VotingClassifier\n",
    "from mlxtend.classifier import EnsembleVoteClassifier\n",
    "from xgboost import XGBClassifier\n",
    "\n",
    "gbm_init = GradientBoostingClassifier(criterion='mse', learning_rate=0.1, loss='exponential', max_depth=6, warm_start=True)\n",
    "xgbc = XGBClassifier(objective='binary:logistic',silent=True, nthread=1, gamma= 0.01, learning_rate= 0.1, max_depth= 6, min_child_weight=1)\n",
    "\n",
    "estimators_in = [\n",
    "    ('gbm', gbm_init),\n",
    "    ('xgbc', xgbc),\n",
    "]\n",
    "\n",
    "eclf = VotingClassifier(estimators=estimators_in,\n",
    "                       voting='hard',\n",
    "                       n_jobs=16,\n",
    "                       )\n",
    "eclf.fit(x_train, y_train)\n",
    "y_pred = eclf.predict(x_test)\n",
    "f1 = round(f1_score(y_test, y_pred, average='weighted') * 100, 2)\n",
    "acc = round(accuracy_score(y_test, y_pred) * 100, 2)\n",
    "print(acc, f1)\n",
    "\n",
    "gbm_init.fit(x_train, y_train)\n",
    "xgbc.fit(x_train, y_train)\n",
    "\n",
    "y_pred = xgbc.predict(x_test)\n",
    "f1 = round(f1_score(y_test, y_pred, average='weighted') * 100, 2)\n",
    "acc = round(accuracy_score(y_test, y_pred) * 100, 2)\n",
    "print(acc, f1)\n",
    "\n",
    "y_pred = gbm_init.predict(x_test)\n",
    "f1 = round(f1_score(y_test, y_pred, average='weighted') * 100, 2)\n",
    "acc = round(accuracy_score(y_test, y_pred) * 100, 2)\n",
    "print(acc, f1)\n",
    "\n",
    "\n",
    "eclf2 = EnsembleVoteClassifier(clfs=[gbm_init, xgbc], voting='soft', fit_base_estimators=False)\n",
    "eclf2.fit(x_test, y_test)\n",
    "y_pred = eclf2.predict(x_test)\n",
    "f1 = round(f1_score(y_test, y_pred, average='weighted') * 100, 2)\n",
    "acc = round(accuracy_score(y_test, y_pred) * 100, 2)\n",
    "print(acc, f1)"
   ]
  },
  {
   "cell_type": "code",
   "execution_count": null,
   "metadata": {},
   "outputs": [
    {
     "name": "stdout",
     "output_type": "stream",
     "text": [
      " 29%|██▉       | 144/500 [17:30<41:39,  7.02s/trial, best loss: 0.28547217271073577] "
     ]
    }
   ],
   "source": [
    "# from espressomaker import Espresso\n",
    "from hyperopt import hp, fmin, tpe\n",
    "from sklearn.model_selection import KFold, cross_val_score\n",
    "\n",
    "# with Espresso.shot(display_on = True):   \n",
    "space = {'max_depth': hp.quniform('max_depth', 2, 12, 2),\n",
    "        'learning_rate': hp.uniform('learning_rate', 0.001, 0.8),\n",
    "        'min_weight_fraction_leaf': hp.quniform('min_child_weight', 1, 20, 2),\n",
    "        'min_child_samples': hp.quniform('min_child_samples', 10, 50, 2),\n",
    "        'colsample_bytree': hp.uniform('colsample_bytree', 0.5, 1.0),\n",
    "        'reg_lambda': hp.uniform('reg_lambda', 0, 100),\n",
    "        'subsample': hp.uniform('subsample', 0.5, 1.0)}\n",
    "\n",
    "parameters = {'min_samples_leaf': hp.quniform('min_samples_leaf', 10, 50, 2),\n",
    "              'learning_rate': hp.uniform('learning_rate', 0.001, 0.8),\n",
    "#               'min_weight_fraction_leaf': hp.uniform('min_weight_fraction_leaf', 0.1, 0.9, 0.01),\n",
    "#                   'criterion': ['friedman_mse', 'mse'],\n",
    "#                   'loss': ['deviance', 'exponential'],\n",
    "              'max_depth': hp.quniform('max_depth', 2, 12, 2),\n",
    "              'subsample': hp.uniform('subsample', 0.5, 1.0)\n",
    "             }\n",
    "\n",
    "def lgb_objective(params):\n",
    "    params = {'min_samples_leaf': int(params['min_samples_leaf']),\n",
    "#               'min_weight_fraction_leaf': params['min_weight_fraction_leaf'],\n",
    "              'learning_rate': params['learning_rate'],\n",
    "              'max_depth': int(params['max_depth']),\n",
    "              'subsample': params['subsample']}\n",
    "\n",
    "    gbm_init = GradientBoostingClassifier(n_estimators=100, loss='exponential', criterion='mse', **params)\n",
    "    best_score = cross_val_score(gbm_init, x_train.values, y_train, scoring='f1', cv=10, n_jobs=-1).mean()\n",
    "    loss = 1 - best_score\n",
    "    return loss\n",
    "\n",
    "gbm_best = fmin(fn=lgb_objective,space=parameters, max_evals=500, rstate=np.random.RandomState(21), algo=tpe.suggest)\n",
    "print(gbm_best)"
   ]
  },
  {
   "cell_type": "code",
   "execution_count": null,
   "metadata": {},
   "outputs": [],
   "source": [
    "train_categories = {}\n",
    "for col in df_train.select_dtypes(['category']).columns:\n",
    "    df_train[col] = df_train[col].unique().to_list()\n",
    "    \n",
    "test_categories = {}\n",
    "for col in df_test.select_dtypes(['category']).columns:\n",
    "    test_categories[col] = df_test[col].unique().to_list()"
   ]
  },
  {
   "cell_type": "code",
   "execution_count": null,
   "metadata": {},
   "outputs": [],
   "source": [
    "category_mapping = {}\n",
    "for col in train_categories:\n",
    "    same = set(train_categories[col]).intersection(set(test_categories[col]))\n",
    "    different = set(test_categories[col]).difference(set(train_categories[col]))\n",
    "    missing = set(train_categories[col]).difference(set(test_categories[col]))\n",
    "    \n",
    "    category_mapping[col] = {}\n",
    "    for s in same:\n",
    "        category_mapping[col][s] = s\n",
    "    for d in different:\n",
    "        category_mapping[col][d] = ' ?'\n",
    "    category_mapping[col]['missing'] = missing"
   ]
  },
  {
   "cell_type": "code",
   "execution_count": null,
   "metadata": {},
   "outputs": [],
   "source": [
    "mapped_test_data = df_test.replace(category_mapping)"
   ]
  },
  {
   "cell_type": "code",
   "execution_count": null,
   "metadata": {},
   "outputs": [],
   "source": [
    "for col in mapped_test_data.select_dtypes(['object']).columns:\n",
    "    mapped_test_data[col] = mapped_test_data[col].astype('category')"
   ]
  },
  {
   "cell_type": "code",
   "execution_count": null,
   "metadata": {},
   "outputs": [],
   "source": [
    "cat_cols = mapped_test_data.select_dtypes(['category']).columns"
   ]
  },
  {
   "cell_type": "code",
   "execution_count": null,
   "metadata": {},
   "outputs": [],
   "source": [
    "mapped_test_data = pd.get_dummies(mapped_test_data, cat_cols)"
   ]
  },
  {
   "cell_type": "code",
   "execution_count": null,
   "metadata": {},
   "outputs": [],
   "source": [
    "_, rescaled_test_data = x_train.align(mapped_test_data, join='left', axis=1)"
   ]
  },
  {
   "cell_type": "code",
   "execution_count": null,
   "metadata": {},
   "outputs": [],
   "source": [
    "output_pred = best_model_to_output.predict(rescaled_test_data)\n",
    "output_df = pd.DataFrame({'id': [i+1 for i in range(len(output_pred))], 'prediction': output_pred})\n",
    "output_df['prediction'].sum()"
   ]
  },
  {
   "cell_type": "code",
   "execution_count": null,
   "metadata": {},
   "outputs": [],
   "source": [
    "prev_output_df = pd.read_csv('predictions_eclf2.csv')"
   ]
  }
 ],
 "metadata": {
  "kernelspec": {
   "display_name": "Python 3",
   "language": "python",
   "name": "python3"
  },
  "language_info": {
   "codemirror_mode": {
    "name": "ipython",
    "version": 3
   },
   "file_extension": ".py",
   "mimetype": "text/x-python",
   "name": "python",
   "nbconvert_exporter": "python",
   "pygments_lexer": "ipython3",
   "version": "3.7.7"
  }
 },
 "nbformat": 4,
 "nbformat_minor": 4
}
